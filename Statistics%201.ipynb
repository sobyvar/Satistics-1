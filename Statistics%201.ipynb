{
 "cells": [
  {
   "cell_type": "code",
   "execution_count": 7,
   "metadata": {},
   "outputs": [],
   "source": [
    "import numpy as np"
   ]
  },
  {
   "cell_type": "code",
   "execution_count": 8,
   "metadata": {},
   "outputs": [],
   "source": [
    "# 1) You survey household in your area to find the average rent they are paying. Find the Standard deviation\n",
    "# for '$1550','$1700', '$900', '$850', '$1000', '$950'"
   ]
  },
  {
   "cell_type": "code",
   "execution_count": 9,
   "metadata": {},
   "outputs": [
    {
     "name": "stdout",
     "output_type": "stream",
     "text": [
      "standard deviation of the rent is\n",
      "335.93\n"
     ]
    }
   ],
   "source": [
    "x_rent = ['$1550','$1700', '$900', '$850', '$1000', '$950']\n",
    "mod_rent = [int(x.strip('$')) for x in x_rent]\n",
    "print('standard deviation of the rent is')\n",
    "print(round(np.std(mod_rent),2))"
   ]
  },
  {
   "cell_type": "code",
   "execution_count": 10,
   "metadata": {},
   "outputs": [],
   "source": [
    "# 2) Find the variance for the following set of data representing tress in california(heights in feet):"
   ]
  },
  {
   "cell_type": "code",
   "execution_count": 11,
   "metadata": {},
   "outputs": [
    {
     "name": "stdout",
     "output_type": "stream",
     "text": [
      "variance of height\n",
      "5183.25\n"
     ]
    }
   ],
   "source": [
    "height=[3,21,98,203,17,9]\n",
    "print('variance of height')\n",
    "print(np.var(height))"
   ]
  },
  {
   "cell_type": "code",
   "execution_count": 12,
   "metadata": {},
   "outputs": [],
   "source": [
    "# 3) In a class on 100 students , 80 students passed in all subjects, 10 failed in one subject, 7 failed in two subjects and 3 failed in 3 subjects.\n",
    "# Find the probaility distributuion of the variable for the number of subjects a student fronm the given class has failed in\n",
    "# For a random student, "
   ]
  },
  {
   "cell_type": "code",
   "execution_count": 14,
   "metadata": {},
   "outputs": [
    {
     "name": "stdout",
     "output_type": "stream",
     "text": [
      "The probability of failing in 0 subjects, P(X=0) = 0.8\n",
      "The probability of failing in 1 subjects, P(X=1) = 0.1\n",
      "The probability of failing in 2 subjects, P(X=2) = 0.07\n",
      "The probability of failing in 3 subjects, P(X=3) = 0.03\n"
     ]
    }
   ],
   "source": [
    "print('The probability of failing in 0 subjects, P(X=0) =',(80/100))\n",
    "print('The probability of failing in 1 subjects, P(X=1) =',(10/100))\n",
    "print('The probability of failing in 2 subjects, P(X=2) =',(7/100))\n",
    "print('The probability of failing in 3 subjects, P(X=3) =',(3/100))"
   ]
  }
 ],
 "metadata": {
  "kernelspec": {
   "display_name": "Python 3",
   "language": "python",
   "name": "python3"
  },
  "language_info": {
   "codemirror_mode": {
    "name": "ipython",
    "version": 3
   },
   "file_extension": ".py",
   "mimetype": "text/x-python",
   "name": "python",
   "nbconvert_exporter": "python",
   "pygments_lexer": "ipython3",
   "version": "3.6.5"
  }
 },
 "nbformat": 4,
 "nbformat_minor": 2
}
